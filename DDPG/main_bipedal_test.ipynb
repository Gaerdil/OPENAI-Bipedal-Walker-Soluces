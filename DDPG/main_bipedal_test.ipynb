{
 "cells": [
  {
   "cell_type": "markdown",
   "metadata": {},
   "source": [
    "# DDPG - OPENAI - Bipedal Walker"
   ]
  },
  {
   "cell_type": "markdown",
   "metadata": {},
   "source": [
    "## Test file"
   ]
  },
  {
   "cell_type": "code",
   "execution_count": 1,
   "metadata": {},
   "outputs": [],
   "source": [
    "from __future__ import division\n",
    "import gym\n",
    "from gym.wrappers import Monitor\n",
    "from tqdm import *\n",
    "\n",
    "import numpy as np\n",
    "import torch\n",
    "from torch.autograd import Variable\n",
    "\n",
    "\n",
    "import agent\n",
    "import utils\n",
    "from main import *"
   ]
  },
  {
   "cell_type": "code",
   "execution_count": 2,
   "metadata": {},
   "outputs": [
    {
     "name": "stderr",
     "output_type": "stream",
     "text": [
      "/home/monokuma/Logiciels/Gym/gym/gym/logger.py:30: UserWarning: \u001b[33mWARN: Box bound precision lowered by casting to float32\u001b[0m\n",
      "  warnings.warn(colorize('%s: %s'%('WARN', msg % args), 'yellow'))\n"
     ]
    }
   ],
   "source": [
    "\n",
    "\n",
    "env = gym.make('BipedalWalker-v3')\n",
    "env = Monitor(env, './video', video_callable=lambda episode_id: True,force = True)\n",
    "env.seed(1)\n",
    "\n",
    "num_epochs = 10\n",
    "max_steps = 1000\n",
    "state_dim = env.observation_space.shape[0]\n",
    "action_dim = env.action_space.shape[0]\n",
    "a_high = env.action_space.high[0]\n",
    "init_var = 0.003\n",
    "batch_size = 128\n",
    "max_memory_size = 1000000\n",
    "lrs = [0.001,0.001]\n",
    "taus = [0.003, 0.003]\n",
    "gamma = 0.99\n",
    "weight_decays = [0,0]\n",
    "seed = 0\n",
    "\n",
    "\n",
    "trainer = agent.Agent(state_dim, action_dim, a_high, lrs, taus, gamma, init_var, weight_decays, batch_size, max_memory_size, seed)"
   ]
  },
  {
   "cell_type": "code",
   "execution_count": 3,
   "metadata": {},
   "outputs": [
    {
     "name": "stderr",
     "output_type": "stream",
     "text": [
      "Episode reward: -56.14877535051033, Survived steps: 164, Best reward: 313.1158905095996: 100%|██████████| 10/10 [01:26<00:00,  8.69s/it]"
     ]
    },
    {
     "name": "stdout",
     "output_type": "stream",
     "text": [
      "End of Main experiment\n"
     ]
    },
    {
     "name": "stderr",
     "output_type": "stream",
     "text": [
      "\n"
     ]
    }
   ],
   "source": [
    "main = Main(env,trainer, num_epochs, max_steps, train = False, print_ =False, load_models = True)"
   ]
  }
 ],
 "metadata": {
  "kernelspec": {
   "display_name": "Python 3",
   "language": "python",
   "name": "python3"
  },
  "language_info": {
   "codemirror_mode": {
    "name": "ipython",
    "version": 3
   },
   "file_extension": ".py",
   "mimetype": "text/x-python",
   "name": "python",
   "nbconvert_exporter": "python",
   "pygments_lexer": "ipython3",
   "version": "3.7.0"
  }
 },
 "nbformat": 4,
 "nbformat_minor": 2
}
